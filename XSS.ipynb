{
 "cells": [
  {
   "cell_type": "code",
   "execution_count": 1,
   "metadata": {},
   "outputs": [],
   "source": [
    "#pip install opencv-python\n"
   ]
  },
  {
   "cell_type": "code",
   "execution_count": 2,
   "metadata": {},
   "outputs": [],
   "source": [
    "import numpy as np\n",
    "import pandas as pd\n",
    "\n",
    "import keras\n",
    "import cv2\n",
    "\n",
    "from sklearn.model_selection import train_test_split\n",
    "\n",
    "import tensorflow as tf\n",
    "from keras.models import Sequential\n",
    "from keras.layers import Dense, Activation, Conv2D, MaxPooling2D,Flatten\n",
    "\n"
   ]
  },
  {
   "cell_type": "code",
   "execution_count": 3,
   "metadata": {},
   "outputs": [],
   "source": [
    "def load_csv():\n",
    "    contents=[]\n",
    "    with open(\"XSS_dataset.csv\",'r') as f:\n",
    "        for line in f:\n",
    "            word = line.split('\\n')\n",
    "            sentence = word[0]\n",
    "            index , string = sentence.split(',',maxsplit=1)\n",
    "            sentence, label = string.rsplit(',',maxsplit=1)\n",
    "            #sentence = sentence.strip('\"')\n",
    "            contents += [[sentence , label]]\n",
    "\n",
    "\n",
    "    contents=contents[1:]\n",
    "    #print(contents)\n",
    "    global xssdf\n",
    "    xssdf = pd.DataFrame(contents,columns=['Sentence','Label'])\n",
    "    xssdf = xssdf.replace({'\\t': ''}, regex=True)\n",
    "    xssdf['Sentence'] = xssdf['Sentence'].astype(str)\n",
    "    xssdf['Label']=xssdf['Label'].astype(int)\n",
    "    \n",
    "    \n",
    "load_csv()"
   ]
  },
  {
   "cell_type": "code",
   "execution_count": 4,
   "metadata": {},
   "outputs": [],
   "source": [
    "X = xssdf['Sentence']\n",
    "y = xssdf['Label'].values\n",
    "trainX, testX, trainY, testY = train_test_split(X,y, test_size=0.2)"
   ]
  },
  {
   "cell_type": "code",
   "execution_count": 5,
   "metadata": {},
   "outputs": [],
   "source": [
    "train_sentences=trainX.values\n",
    "test_sentences=testX.values"
   ]
  },
  {
   "cell_type": "code",
   "execution_count": 6,
   "metadata": {},
   "outputs": [],
   "source": [
    "def convert_to_ascii(sentence):\n",
    "    sentence_ascii=[]\n",
    "\n",
    "    for i in sentence:\n",
    "       \n",
    "        if(ord(i)<8222):      # ”  :  8221\n",
    "            \n",
    "            if(ord(i)==8217): # ’  :  8217 \n",
    "                sentence_ascii.append(134)\n",
    "            \n",
    "            \n",
    "            if(ord(i)==8221): # ”  :  8221 \"\"\n",
    "                sentence_ascii.append(129)\n",
    "                \n",
    "            if(ord(i)==8220): # “  :  8220\n",
    "                sentence_ascii.append(130)\n",
    "                \n",
    "                \n",
    "            if(ord(i)==8216): # ‘  :  8216\n",
    "                sentence_ascii.append(131)\n",
    "                \n",
    "            if(ord(i)==8217): # ’  :  8217\n",
    "                sentence_ascii.append(132)\n",
    "            \n",
    "            if(ord(i)==8211): # –  :  8211\n",
    "                sentence_ascii.append(133)\n",
    "                \n",
    "                \n",
    "            \"\"\"\n",
    "            If values less than 128 store them else discard them\n",
    "            \"\"\"\n",
    "            if (ord(i)<=128):\n",
    "                    sentence_ascii.append(ord(i))\n",
    "    \n",
    "            else:\n",
    "                    pass\n",
    "            \n",
    "\n",
    "    zer=np.zeros((10000))\n",
    "\n",
    "    for i in range(len(sentence_ascii)):\n",
    "        zer[i]=sentence_ascii[i]\n",
    "\n",
    "    zer.shape=(100, 100)\n",
    "\n",
    "    return zer"
   ]
  },
  {
   "cell_type": "code",
   "execution_count": 7,
   "metadata": {},
   "outputs": [],
   "source": [
    "def preprocessing(sentences):\n",
    "    arr=np.zeros((len(sentences),100,100))\n",
    " \n",
    "    for i in range(len(sentences)):\n",
    "\n",
    "        image=convert_to_ascii(sentences[i])\n",
    "\n",
    "        x=np.asarray(image,dtype='float')\n",
    "        image =  cv2.resize(x, dsize=(100,100), interpolation=cv2.INTER_CUBIC)\n",
    "        image/=128\n",
    "        arr[i]=image\n",
    "    return arr"
   ]
  },
  {
   "cell_type": "code",
   "execution_count": 8,
   "metadata": {},
   "outputs": [],
   "source": [
    "train_arr = preprocessing(train_sentences)"
   ]
  },
  {
   "cell_type": "code",
   "execution_count": 9,
   "metadata": {},
   "outputs": [],
   "source": [
    "test_arr = preprocessing(test_sentences)"
   ]
  },
  {
   "cell_type": "code",
   "execution_count": 10,
   "metadata": {},
   "outputs": [
    {
     "name": "stdout",
     "output_type": "stream",
     "text": [
      "Train data shape :  (10952, 100, 100, 1)\n",
      "Test data shape :  (2739, 100, 100, 1)\n"
     ]
    }
   ],
   "source": [
    "#Reshape data for input to CNN\n",
    "data = train_arr.reshape(train_arr.shape[0], 100, 100, 1)\n",
    "test_data = test_arr.reshape(test_arr.shape[0], 100, 100, 1)\n",
    "print(\"Train data shape : \",data.shape)\n",
    "print(\"Test data shape : \",test_data.shape)"
   ]
  },
  {
   "cell_type": "code",
   "execution_count": 11,
   "metadata": {},
   "outputs": [],
   "source": [
    "# A basic CNN Model\n",
    "\n",
    "model=tf.keras.models.Sequential([\n",
    "    \n",
    "    tf.keras.layers.Conv2D(64,(3,3), activation=tf.nn.relu, input_shape=(100,100,1)),\n",
    "    tf.keras.layers.MaxPooling2D(2,2),\n",
    "    \n",
    "    tf.keras.layers.Conv2D(128,(3,3), activation='relu'),\n",
    "    tf.keras.layers.MaxPooling2D(2,2),\n",
    "    \n",
    "    tf.keras.layers.Conv2D(256,(3,3), activation='relu'),\n",
    "    tf.keras.layers.MaxPooling2D(2,2),\n",
    "    \n",
    "    tf.keras.layers.Flatten(),\n",
    "    tf.keras.layers.Dense(256, activation='relu'),\n",
    "    tf.keras.layers.Dense(128, activation='relu'),\n",
    "    tf.keras.layers.Dense(64, activation='relu'),\n",
    "    tf.keras.layers.Dense(1, activation='sigmoid')\n",
    "    \n",
    "])"
   ]
  },
  {
   "cell_type": "code",
   "execution_count": 12,
   "metadata": {},
   "outputs": [
    {
     "name": "stdout",
     "output_type": "stream",
     "text": [
      "Model: \"sequential\"\n",
      "_________________________________________________________________\n",
      "Layer (type)                 Output Shape              Param #   \n",
      "=================================================================\n",
      "conv2d (Conv2D)              (None, 98, 98, 64)        640       \n",
      "_________________________________________________________________\n",
      "max_pooling2d (MaxPooling2D) (None, 49, 49, 64)        0         \n",
      "_________________________________________________________________\n",
      "conv2d_1 (Conv2D)            (None, 47, 47, 128)       73856     \n",
      "_________________________________________________________________\n",
      "max_pooling2d_1 (MaxPooling2 (None, 23, 23, 128)       0         \n",
      "_________________________________________________________________\n",
      "conv2d_2 (Conv2D)            (None, 21, 21, 256)       295168    \n",
      "_________________________________________________________________\n",
      "max_pooling2d_2 (MaxPooling2 (None, 10, 10, 256)       0         \n",
      "_________________________________________________________________\n",
      "flatten (Flatten)            (None, 25600)             0         \n",
      "_________________________________________________________________\n",
      "dense (Dense)                (None, 256)               6553856   \n",
      "_________________________________________________________________\n",
      "dense_1 (Dense)              (None, 128)               32896     \n",
      "_________________________________________________________________\n",
      "dense_2 (Dense)              (None, 64)                8256      \n",
      "_________________________________________________________________\n",
      "dense_3 (Dense)              (None, 1)                 65        \n",
      "=================================================================\n",
      "Total params: 6,964,737\n",
      "Trainable params: 6,964,737\n",
      "Non-trainable params: 0\n",
      "_________________________________________________________________\n"
     ]
    }
   ],
   "source": [
    "model.compile(loss='binary_crossentropy', \n",
    "              optimizer='adam', \n",
    "              metrics=['accuracy'])\n",
    "model.summary()"
   ]
  },
  {
   "cell_type": "code",
   "execution_count": 13,
   "metadata": {},
   "outputs": [],
   "source": [
    "num_classes = 2 \n",
    "train_y = keras.utils.to_categorical(data, num_classes)\n",
    "test_y = keras.utils.to_categorical(test_data, num_classes)"
   ]
  },
  {
   "cell_type": "code",
   "execution_count": 14,
   "metadata": {},
   "outputs": [
    {
     "name": "stdout",
     "output_type": "stream",
     "text": [
      "Epoch 1/10\n",
      "86/86 [==============================] - 389s 5s/step - loss: 0.5179 - accuracy: 0.7326 - val_loss: 0.3278 - val_accuracy: 0.8543\n",
      "Epoch 2/10\n",
      "86/86 [==============================] - 386s 4s/step - loss: 0.2353 - accuracy: 0.9067 - val_loss: 0.0778 - val_accuracy: 0.9774\n",
      "Epoch 3/10\n",
      "86/86 [==============================] - 398s 5s/step - loss: 0.0728 - accuracy: 0.9796 - val_loss: 0.0721 - val_accuracy: 0.9803\n",
      "Epoch 4/10\n",
      "86/86 [==============================] - 405s 5s/step - loss: 0.0672 - accuracy: 0.9834 - val_loss: 0.0662 - val_accuracy: 0.9843\n",
      "Epoch 5/10\n",
      "86/86 [==============================] - 402s 5s/step - loss: 0.0541 - accuracy: 0.9855 - val_loss: 0.0588 - val_accuracy: 0.9839\n",
      "Epoch 6/10\n",
      "86/86 [==============================] - 407s 5s/step - loss: 0.0436 - accuracy: 0.9874 - val_loss: 0.0698 - val_accuracy: 0.9803\n",
      "Epoch 7/10\n",
      "86/86 [==============================] - 408s 5s/step - loss: 0.0407 - accuracy: 0.9889 - val_loss: 0.0756 - val_accuracy: 0.9799\n",
      "Epoch 8/10\n",
      "86/86 [==============================] - 364s 4s/step - loss: 0.0414 - accuracy: 0.9887 - val_loss: 0.0531 - val_accuracy: 0.9847\n",
      "Epoch 9/10\n",
      "86/86 [==============================] - 354s 4s/step - loss: 0.0345 - accuracy: 0.9889 - val_loss: 0.0475 - val_accuracy: 0.9869\n",
      "Epoch 10/10\n",
      "86/86 [==============================] - 360s 4s/step - loss: 0.0321 - accuracy: 0.9900 - val_loss: 0.0498 - val_accuracy: 0.9876\n"
     ]
    }
   ],
   "source": [
    "batch_size = 128\n",
    "num_epoch = 10\n",
    "\n",
    "#model training\n",
    "model_log = model.fit(data, trainY,\n",
    "          batch_size=batch_size,\n",
    "          epochs=num_epoch,\n",
    "          verbose=1,\n",
    "          validation_data=( test_data,  testY)\n",
    "                     )"
   ]
  },
  {
   "cell_type": "code",
   "execution_count": 15,
   "metadata": {},
   "outputs": [],
   "source": [
    "# predict for test set\n",
    "pred=model.predict(test_data)"
   ]
  },
  {
   "cell_type": "code",
   "execution_count": 16,
   "metadata": {},
   "outputs": [],
   "source": [
    "# Threshold values predicted\n",
    "\n",
    "for i in range(len(pred)):\n",
    "    if pred[i]>0.5:\n",
    "        pred[i]=1\n",
    "    elif pred[i]<=0.5:\n",
    "        pred[i]=0"
   ]
  },
  {
   "cell_type": "code",
   "execution_count": 17,
   "metadata": {},
   "outputs": [],
   "source": [
    "def accuracy_function(tp,tn,fp,fn):\n",
    "    \n",
    "    accuracy = (tp+tn) / (tp+tn+fp+fn)\n",
    "    \n",
    "    return accuracy\n",
    "\n",
    "\n",
    "\n",
    "def precision_function(tp,fp):\n",
    "    \n",
    "    precision = tp / (tp+fp)\n",
    "    \n",
    "    return precision\n",
    "\n",
    "\n",
    "\n",
    "def recall_function(tp,fn):\n",
    "    \n",
    "    recall=tp / (tp+fn)\n",
    "    \n",
    "    return recall\n",
    "\n",
    "\n",
    "\n",
    "def confusion_matrix(truth,predicted):\n",
    "    \n",
    "    true_positive = 0\n",
    "    true_negative = 0\n",
    "    false_positive = 0\n",
    "    false_negative = 0\n",
    "    \n",
    "    for true,pred in zip(truth,predicted):\n",
    "        if true == 1:\n",
    "            if pred == true:\n",
    "                true_positive += 1\n",
    "            elif pred != true:\n",
    "                false_negative += 1\n",
    "\n",
    "        elif true == 0:\n",
    "            if pred == true:\n",
    "                true_negative += 1\n",
    "            elif pred != true:\n",
    "                false_positive += 1\n",
    "            \n",
    "    accuracy=accuracy_function(true_positive, true_negative, false_positive, false_negative)\n",
    "    precision=precision_function(true_positive, false_positive)\n",
    "    recall=recall_function(true_positive, false_negative)\n",
    "    confusion_matrix_res = [[true_negative, false_negative],[false_positive,true_positive]]\n",
    "    \n",
    "    return (accuracy,\n",
    "            precision,\n",
    "           recall,\n",
    "           confusion_matrix_res)"
   ]
  },
  {
   "cell_type": "code",
   "execution_count": 18,
   "metadata": {},
   "outputs": [
    {
     "name": "stdout",
     "output_type": "stream",
     "text": [
      " Accuracy : 0.9875867104782767 \n",
      " Precision : 0.9905341446923597 \n",
      " Recall : 0.9865319865319865 \n",
      " Confusion matrix: [[1240, 20], [14, 1465]]\n"
     ]
    }
   ],
   "source": [
    "accuracy,precision,recall, matrix =confusion_matrix(testY,pred)\n",
    "print(\" Accuracy : {0} \\n Precision : {1} \\n Recall : {2} \\n Confusion matrix: {3}\".format(accuracy, precision, recall, matrix))"
   ]
  },
  {
   "cell_type": "markdown",
   "metadata": {},
   "source": [
    "# Testing"
   ]
  },
  {
   "cell_type": "code",
   "execution_count": 19,
   "metadata": {},
   "outputs": [],
   "source": [
    "def testing(querystring):\n",
    "    instance=[]\n",
    "    instance = testX\n",
    "    instance = instance[:250]\n",
    "    instance[-1] = querystring[0]\n",
    "    test_instance=instance.values\n",
    "    instance_arr = preprocessing(test_instance)\n",
    "    instance_data = instance_arr.reshape(instance_arr.shape[0], 100, 100, 1)\n",
    "    pred=loaded_model.predict(instance_data)\n",
    "    if pred[-1]>0.5:\n",
    "            res=1\n",
    "    else:\n",
    "            res=0\n",
    "\n",
    "    print(res)"
   ]
  },
  {
   "cell_type": "code",
   "execution_count": 20,
   "metadata": {},
   "outputs": [
    {
     "name": "stdout",
     "output_type": "stream",
     "text": [
      "Saved model to disk\n"
     ]
    }
   ],
   "source": [
    "# serialize model to JSON\n",
    "model_json = model.to_json()\n",
    "with open(\"xssmodel.json\", \"w\") as json_file:\n",
    "    json_file.write(model_json)\n",
    "# serialize weights to HDF5\n",
    "model.save_weights(\"xssmodel.h5\")\n",
    "print(\"Saved model to disk\")"
   ]
  },
  {
   "cell_type": "code",
   "execution_count": 21,
   "metadata": {},
   "outputs": [
    {
     "name": "stdout",
     "output_type": "stream",
     "text": [
      "Loaded model from disk\n"
     ]
    }
   ],
   "source": [
    "from keras.models import model_from_json\n",
    "# load json and create model\n",
    "json_file = open('xssmodel.json', 'r')\n",
    "loaded_model_json = json_file.read()\n",
    "json_file.close()\n",
    "loaded_model = model_from_json(loaded_model_json)\n",
    "# load weights into new model\n",
    "loaded_model.load_weights(\"xssmodel.h5\")\n",
    "print(\"Loaded model from disk\")\n",
    " \n"
   ]
  },
  {
   "cell_type": "code",
   "execution_count": 22,
   "metadata": {},
   "outputs": [
    {
     "name": "stdout",
     "output_type": "stream",
     "text": [
      "0\n"
     ]
    }
   ],
   "source": [
    "#hello world!\n",
    "#<script>alert(document.cookie())</script>\n",
    "testing(['architha aaa'])"
   ]
  },
  {
   "cell_type": "code",
   "execution_count": null,
   "metadata": {},
   "outputs": [],
   "source": []
  }
 ],
 "metadata": {
  "kernelspec": {
   "display_name": "Python 3",
   "language": "python",
   "name": "python3"
  },
  "language_info": {
   "codemirror_mode": {
    "name": "ipython",
    "version": 3
   },
   "file_extension": ".py",
   "mimetype": "text/x-python",
   "name": "python",
   "nbconvert_exporter": "python",
   "pygments_lexer": "ipython3",
   "version": "3.8.5"
  }
 },
 "nbformat": 4,
 "nbformat_minor": 4
}
